{
 "cells": [
  {
   "cell_type": "code",
   "execution_count": 62,
   "metadata": {},
   "outputs": [
    {
     "name": "stdout",
     "output_type": "stream",
     "text": [
      "Requirement already satisfied: tensorflow-addons in /home/mahmoud/anaconda3/lib/python3.8/site-packages (0.12.1)\r\n",
      "Requirement already satisfied: typeguard>=2.7 in /home/mahmoud/anaconda3/lib/python3.8/site-packages (from tensorflow-addons) (2.10.0)\r\n"
     ]
    }
   ],
   "source": [
    "!pip install tensorflow-addons\n",
    "import tensorflow as tf\n",
    "import numpy as np\n",
    "import random\n",
    "from tensorflow.keras.preprocessing.text import Tokenizer\n",
    "import datetime\n",
    "from tensorflow.keras.layers import Input, Dense, Dropout, LeakyReLU, LSTM, LSTMCell\n",
    "from tensorflow.keras.models import Model, Sequential\n",
    "import tensorflow_addons as tfa"
   ]
  },
  {
   "cell_type": "code",
   "execution_count": 2,
   "metadata": {},
   "outputs": [],
   "source": [
    "def gen_batch(batch_size=32):\n",
    "    while True:\n",
    "        X_batch, y_batch = [], []\n",
    "        for _ in range(batch_size):\n",
    "            start_date = datetime.date(1999, 9, 17)\n",
    "            end_date = datetime.date(2021, 2, 11)\n",
    "\n",
    "            time_between_dates = end_date - start_date\n",
    "\n",
    "            days_between_dates = time_between_dates.days\n",
    "\n",
    "            random_number_of_days = random.randrange(days_between_dates)\n",
    "\n",
    "            random_date = start_date + datetime.timedelta(days=random_number_of_days)\n",
    "            X_batch.append(str(random_date))\n",
    "            y_batch.append(random_date.strftime(\"%b %d %Y\").lower())\n",
    "        yield (X_batch, y_batch)\n",
    "    "
   ]
  },
  {
   "cell_type": "code",
   "execution_count": 3,
   "metadata": {},
   "outputs": [
    {
     "data": {
      "text/plain": [
       "(['2004-05-01',\n",
       "  '2012-09-13',\n",
       "  '2019-04-06',\n",
       "  '2019-01-06',\n",
       "  '2007-01-25',\n",
       "  '2018-11-20',\n",
       "  '2017-03-04',\n",
       "  '2012-06-05',\n",
       "  '2010-03-08',\n",
       "  '2003-05-19',\n",
       "  '2003-01-22',\n",
       "  '2008-02-01',\n",
       "  '2001-01-24',\n",
       "  '2013-03-16',\n",
       "  '2015-12-30',\n",
       "  '2006-06-30',\n",
       "  '2003-06-05',\n",
       "  '2012-01-05',\n",
       "  '2005-01-13',\n",
       "  '2013-05-22',\n",
       "  '1999-11-10',\n",
       "  '2003-01-11',\n",
       "  '2020-01-11',\n",
       "  '2017-05-14',\n",
       "  '2014-11-09',\n",
       "  '2007-03-17',\n",
       "  '2017-01-05',\n",
       "  '2001-08-15',\n",
       "  '2018-07-16',\n",
       "  '2001-04-16',\n",
       "  '2018-10-30',\n",
       "  '2009-11-22'],\n",
       " ['may 01 2004',\n",
       "  'sep 13 2012',\n",
       "  'apr 06 2019',\n",
       "  'jan 06 2019',\n",
       "  'jan 25 2007',\n",
       "  'nov 20 2018',\n",
       "  'mar 04 2017',\n",
       "  'jun 05 2012',\n",
       "  'mar 08 2010',\n",
       "  'may 19 2003',\n",
       "  'jan 22 2003',\n",
       "  'feb 01 2008',\n",
       "  'jan 24 2001',\n",
       "  'mar 16 2013',\n",
       "  'dec 30 2015',\n",
       "  'jun 30 2006',\n",
       "  'jun 05 2003',\n",
       "  'jan 05 2012',\n",
       "  'jan 13 2005',\n",
       "  'may 22 2013',\n",
       "  'nov 10 1999',\n",
       "  'jan 11 2003',\n",
       "  'jan 11 2020',\n",
       "  'may 14 2017',\n",
       "  'nov 09 2014',\n",
       "  'mar 17 2007',\n",
       "  'jan 05 2017',\n",
       "  'aug 15 2001',\n",
       "  'jul 16 2018',\n",
       "  'apr 16 2001',\n",
       "  'oct 30 2018',\n",
       "  'nov 22 2009'])"
      ]
     },
     "execution_count": 3,
     "metadata": {},
     "output_type": "execute_result"
    }
   ],
   "source": [
    "g = gen_batch()\n",
    "next(g)"
   ]
  },
  {
   "cell_type": "code",
   "execution_count": 4,
   "metadata": {},
   "outputs": [],
   "source": [
    "X_batch, y_batch = next(gen_batch(128))\n",
    "tokenizer = Tokenizer(char_level=True)\n",
    "tokenizer.fit_on_texts(X_batch + y_batch)"
   ]
  },
  {
   "cell_type": "code",
   "execution_count": 5,
   "metadata": {},
   "outputs": [
    {
     "data": {
      "text/plain": [
       "OrderedDict([('1', 314),\n",
       "             ('9', 67),\n",
       "             ('-', 256),\n",
       "             ('2', 414),\n",
       "             ('0', 615),\n",
       "             ('8', 55),\n",
       "             ('3', 71),\n",
       "             ('7', 59),\n",
       "             ('4', 72),\n",
       "             ('5', 63),\n",
       "             ('6', 62),\n",
       "             ('d', 15),\n",
       "             ('e', 35),\n",
       "             ('c', 25),\n",
       "             (' ', 256),\n",
       "             ('j', 26),\n",
       "             ('a', 46),\n",
       "             ('n', 39),\n",
       "             ('p', 23),\n",
       "             ('r', 23),\n",
       "             ('o', 30),\n",
       "             ('v', 20),\n",
       "             ('u', 22),\n",
       "             ('g', 5),\n",
       "             ('m', 20),\n",
       "             ('t', 10),\n",
       "             ('s', 11),\n",
       "             ('l', 7),\n",
       "             ('f', 9),\n",
       "             ('b', 9),\n",
       "             ('y', 9)])"
      ]
     },
     "execution_count": 5,
     "metadata": {},
     "output_type": "execute_result"
    }
   ],
   "source": [
    "tokenizer.word_counts"
   ]
  },
  {
   "cell_type": "code",
   "execution_count": 67,
   "metadata": {},
   "outputs": [],
   "source": [
    "def gen_preprocessed_batch(batch_size=32):\n",
    "    b_generator = gen_batch(batch_size)\n",
    "    while True:\n",
    "        X, y = next(b_generator)\n",
    "        X = tokenizer.texts_to_sequences(X)\n",
    "        y = tokenizer.texts_to_sequences(y)\n",
    "        yield (np.expand_dims(np.array(X), axis=2).astype(np.float32), np.expand_dims(np.array(y), axis=2).astype(np.float32))\n",
    "    "
   ]
  },
  {
   "cell_type": "code",
   "execution_count": 68,
   "metadata": {},
   "outputs": [
    {
     "name": "stdout",
     "output_type": "stream",
     "text": [
      "(32, 10, 1)\n",
      "(32, 11, 1)\n"
     ]
    }
   ],
   "source": [
    "X, y = next(gen_preprocessed_batch(32))\n",
    "print(X.shape)\n",
    "print(y.shape)"
   ]
  },
  {
   "cell_type": "code",
   "execution_count": 116,
   "metadata": {},
   "outputs": [
    {
     "name": "stdout",
     "output_type": "stream",
     "text": [
      "Model: \"sequential_2\"\n",
      "_________________________________________________________________\n",
      "Layer (type)                 Output Shape              Param #   \n",
      "=================================================================\n",
      "sequential (Sequential)      (None, 128)               66560     \n",
      "_________________________________________________________________\n",
      "repeat_vector (RepeatVector) (None, 11, 128)           0         \n",
      "_________________________________________________________________\n",
      "sequential_1 (Sequential)    (None, 11, 32)            135712    \n",
      "=================================================================\n",
      "Total params: 202,272\n",
      "Trainable params: 202,272\n",
      "Non-trainable params: 0\n",
      "_________________________________________________________________\n"
     ]
    }
   ],
   "source": [
    "tf.keras.backend.clear_session()\n",
    "\n",
    "encoder = Sequential([\n",
    "    LSTM(128, input_shape=[None, 1])\n",
    "])\n",
    "\n",
    "decoder = Sequential([\n",
    "    LSTM(128, return_sequences=True),\n",
    "    Dense(len(tokenizer.word_index) + 1, activation=\"softmax\")\n",
    "])\n",
    "\n",
    "model = Sequential([\n",
    "    encoder,\n",
    "    tf.keras.layers.RepeatVector(11),\n",
    "    decoder\n",
    "])\n",
    "model.summary()"
   ]
  },
  {
   "cell_type": "code",
   "execution_count": 117,
   "metadata": {},
   "outputs": [
    {
     "name": "stdout",
     "output_type": "stream",
     "text": [
      "Epoch 1/32\n",
      "512/512 [==============================] - 20s 38ms/step - loss: 1.3174 - val_loss: 0.7810\n",
      "Epoch 2/32\n",
      "512/512 [==============================] - 19s 37ms/step - loss: 0.6172 - val_loss: 0.4152\n",
      "Epoch 3/32\n",
      "512/512 [==============================] - 19s 37ms/step - loss: 0.2907 - val_loss: 0.1826\n",
      "Epoch 4/32\n",
      "512/512 [==============================] - 19s 37ms/step - loss: 0.1343 - val_loss: 0.0903\n",
      "Epoch 5/32\n",
      "512/512 [==============================] - 19s 37ms/step - loss: 0.0935 - val_loss: 0.1461\n",
      "Epoch 6/32\n",
      "512/512 [==============================] - 19s 37ms/step - loss: 0.0401 - val_loss: 0.0238\n",
      "Epoch 7/32\n",
      "512/512 [==============================] - 19s 37ms/step - loss: 0.0173 - val_loss: 0.0124\n",
      "Epoch 8/32\n",
      "512/512 [==============================] - 19s 37ms/step - loss: 0.0451 - val_loss: 0.0184\n",
      "Epoch 9/32\n",
      "512/512 [==============================] - 19s 37ms/step - loss: 0.0093 - val_loss: 0.0063\n",
      "Epoch 10/32\n",
      "512/512 [==============================] - 19s 37ms/step - loss: 0.0051 - val_loss: 0.0041\n",
      "Epoch 11/32\n",
      "512/512 [==============================] - 19s 37ms/step - loss: 0.0034 - val_loss: 0.0028\n",
      "Epoch 12/32\n",
      "512/512 [==============================] - 19s 37ms/step - loss: 0.0024 - val_loss: 0.0020\n",
      "Epoch 13/32\n",
      "512/512 [==============================] - 20s 40ms/step - loss: 0.0017 - val_loss: 0.0014\n",
      "Epoch 14/32\n",
      "512/512 [==============================] - 19s 38ms/step - loss: 0.0012 - val_loss: 0.0011\n",
      "Epoch 15/32\n",
      "512/512 [==============================] - 19s 38ms/step - loss: 8.8440e-04 - val_loss: 7.6796e-04\n",
      "Epoch 16/32\n",
      "512/512 [==============================] - 20s 38ms/step - loss: 6.4829e-04 - val_loss: 5.5503e-04\n",
      "Epoch 17/32\n",
      "512/512 [==============================] - 19s 38ms/step - loss: 0.0408 - val_loss: 2.0580\n",
      "Epoch 18/32\n",
      "512/512 [==============================] - 20s 38ms/step - loss: 0.0955 - val_loss: 0.0069\n",
      "Epoch 19/32\n",
      "512/512 [==============================] - 20s 38ms/step - loss: 0.0045 - val_loss: 0.0031\n",
      "Epoch 20/32\n",
      "512/512 [==============================] - 20s 38ms/step - loss: 0.0024 - val_loss: 0.0019\n",
      "Epoch 21/32\n",
      "512/512 [==============================] - 20s 40ms/step - loss: 0.0015 - val_loss: 0.0012\n",
      "Epoch 22/32\n",
      "512/512 [==============================] - 20s 39ms/step - loss: 0.0010 - val_loss: 8.2542e-04\n",
      "Epoch 23/32\n",
      "512/512 [==============================] - 20s 39ms/step - loss: 7.0599e-04 - val_loss: 5.9570e-04\n",
      "Epoch 24/32\n",
      "512/512 [==============================] - 20s 40ms/step - loss: 5.2179e-04 - val_loss: 4.5863e-04\n",
      "Epoch 25/32\n",
      "512/512 [==============================] - 20s 39ms/step - loss: 4.0356e-04 - val_loss: 3.4898e-04\n",
      "Epoch 26/32\n",
      "512/512 [==============================] - 20s 39ms/step - loss: 3.1132e-04 - val_loss: 2.7290e-04\n",
      "Epoch 27/32\n",
      "512/512 [==============================] - 20s 39ms/step - loss: 2.4359e-04 - val_loss: 2.1640e-04\n",
      "Epoch 28/32\n",
      "512/512 [==============================] - 21s 40ms/step - loss: 1.9086e-04 - val_loss: 1.7331e-04\n",
      "Epoch 29/32\n",
      "512/512 [==============================] - 20s 39ms/step - loss: 1.5006e-04 - val_loss: 1.3148e-04\n",
      "Epoch 30/32\n",
      "512/512 [==============================] - 20s 39ms/step - loss: 1.1746e-04 - val_loss: 1.0418e-04\n",
      "Epoch 31/32\n",
      "512/512 [==============================] - 22s 44ms/step - loss: 9.2104e-05 - val_loss: 8.6882e-05\n",
      "Epoch 32/32\n",
      "512/512 [==============================] - 20s 40ms/step - loss: 7.1576e-05 - val_loss: 6.3533e-05\n"
     ]
    }
   ],
   "source": [
    "model.compile(optimizer=\"adam\", loss=\"sparse_categorical_crossentropy\")\n",
    "history = model.fit(\n",
    "    gen_preprocessed_batch(),\n",
    "    epochs=32,\n",
    "    steps_per_epoch=512,\n",
    "    validation_data=gen_preprocessed_batch(),\n",
    "    validation_steps=512,\n",
    ")"
   ]
  },
  {
   "cell_type": "code",
   "execution_count": 119,
   "metadata": {},
   "outputs": [
    {
     "data": {
      "image/png": "[encoded data removed]",
      "text/plain": [
       "<Figure size 432x288 with 1 Axes>"
      ]
     },
     "metadata": {
      "needs_background": "light"
     },
     "output_type": "display_data"
    }
   ],
   "source": [
    "import matplotlib.pyplot as plt\n",
    "plt.plot(list(range(32)), history.history[\"loss\"])\n",
    "plt.plot(list(range(32)), history.history[\"val_loss\"])\n",
    "plt.show()"
   ]
  },
  {
   "cell_type": "code",
   "execution_count": 120,
   "metadata": {},
   "outputs": [
    {
     "name": "stdout",
     "output_type": "stream",
     "text": [
      "[[ 2.  1.  3.  1.  4.  1.  8.  4.  1.  2.]\n",
      " [ 2.  1.  3.  8.  4.  1.  9.  4.  1. 10.]]\n",
      "['2 0 1 0 - 0 9 - 0 2', '2 0 1 9 - 0 5 - 0 6']\n",
      "==================================\n",
      "[[25. 15. 19.  5.  1.  2.  5.  2.  1.  3.  1.]\n",
      " [23. 13. 29.  5.  1. 10.  5.  2.  1.  3.  8.]]\n",
      "['s e p   0 2   2 0 1 0', 'm a y   0 6   2 0 1 9']\n"
     ]
    }
   ],
   "source": [
    "x_test, y_test = next(gen_preprocessed_batch(2))\n",
    "print(x_test.squeeze())\n",
    "print(tokenizer.sequences_to_texts(x_test.squeeze()))\n",
    "print(\"==================================\")\n",
    "print(y_test.squeeze())\n",
    "print(tokenizer.sequences_to_texts(y_test.squeeze()))"
   ]
  },
  {
   "cell_type": "code",
   "execution_count": 121,
   "metadata": {},
   "outputs": [],
   "source": [
    "preds = model.predict_classes(x_test)"
   ]
  },
  {
   "cell_type": "code",
   "execution_count": 122,
   "metadata": {},
   "outputs": [
    {
     "name": "stdout",
     "output_type": "stream",
     "text": [
      "[[25 15 19  5  1  2  5  2  1  3  1]\n",
      " [23 13 29  5  1 10  5  2  1  3  8]]\n",
      "['s e p   0 2   2 0 1 0', 'm a y   0 6   2 0 1 9']\n"
     ]
    }
   ],
   "source": [
    "print(preds)\n",
    "print(tokenizer.sequences_to_texts(preds))"
   ]
  },
  {
   "cell_type": "code",
   "execution_count": 123,
   "metadata": {},
   "outputs": [],
   "source": [
    "def convert(date, tokenizer, model):\n",
    "    date_as_indices = np.expand_dims(tokenizer.texts_to_sequences([date]), axis=2)\n",
    "    preds = model.predict_classes(date_as_indices)\n",
    "    return tokenizer.sequences_to_texts(preds)"
   ]
  },
  {
   "cell_type": "code",
   "execution_count": 128,
   "metadata": {},
   "outputs": [
    {
     "data": {
      "text/plain": [
       "['j u l   1 7   2 0 0 4']"
      ]
     },
     "execution_count": 128,
     "metadata": {},
     "output_type": "execute_result"
    }
   ],
   "source": [
    "convert(\"2021-9-17\", tokenizer, model)"
   ]
  },
  {
   "cell_type": "code",
   "execution_count": null,
   "metadata": {},
   "outputs": [],
   "source": []
  }
 ],
 "metadata": {
  "kernelspec": {
   "display_name": "Python 3",
   "language": "python",
   "name": "python3"
  },
  "language_info": {
   "codemirror_mode": {
    "name": "ipython",
    "version": 3
   },
   "file_extension": ".py",
   "mimetype": "text/x-python",
   "name": "python",
   "nbconvert_exporter": "python",
   "pygments_lexer": "ipython3",
   "version": "3.8.3"
  }
 },
 "nbformat": 4,
 "nbformat_minor": 4
}
