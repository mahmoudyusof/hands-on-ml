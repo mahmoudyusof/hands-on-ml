{
  "nbformat": 4,
  "nbformat_minor": 0,
  "metadata": {
    "colab": {
      "name": "DCGANs.ipynb",
      "provenance": []
    },
    "kernelspec": {
      "name": "python3",
      "display_name": "Python 3"
    },
    "accelerator": "GPU"
  },
  "cells": [
    {
      "cell_type": "code",
      "metadata": {
        "colab": {
          "base_uri": "https://localhost:8080/"
        },
        "id": "apCA1H5HBaDw",
        "outputId": "cdd1e49f-55a9-4dc5-d404-ce3e75ce8ec9"
      },
      "source": [
        "import tensorflow as tf\n",
        "from tensorflow.keras import backend as K\n",
        "from tensorflow.keras.models import Sequential\n",
        "from tensorflow.keras.layers import Dense, Conv2D, Conv2DTranspose, Dropout, BatchNormalization, LeakyReLU, UpSampling2D, MaxPool2D, Reshape, Flatten\n",
        "\n",
        "from tensorflow.keras.datasets import mnist\n",
        "\n",
        "import numpy as np\n",
        "import matplotlib.pyplot as plt\n",
        "import pandas as pd\n",
        "from mpl_toolkits.axes_grid1 import ImageGrid\n",
        "\n",
        "(x_train, y_train), (x_test, y_test) = mnist.load_data()\n",
        "\n",
        "print(x_train.shape, y_train.shape)\n",
        "print(x_test.shape, y_test.shape)\n",
        "\n",
        "x_train = (x_train / 255.) * 2 - 1\n",
        "x_test = (x_test / 255.) * 2 - 1\n",
        "\n",
        "print(x_train.min(), x_train.max())\n",
        "print(x_test.min(), x_test.max())\n",
        "\n",
        "x_train, x_test = np.expand_dims(x_train.astype(\"float32\"), axis=-1), np.expand_dims(x_test.astype(\"float32\"), axis=-1)\n",
        "\n",
        "print(x_train.shape, y_train.shape)\n",
        "print(x_test.shape, y_test.shape)\n"
      ],
      "execution_count": 1,
      "outputs": [
        {
          "output_type": "stream",
          "text": [
            "(60000, 28, 28) (60000,)\n",
            "(10000, 28, 28) (10000,)\n",
            "-1.0 1.0\n",
            "-1.0 1.0\n",
            "(60000, 28, 28, 1) (60000,)\n",
            "(10000, 28, 28, 1) (10000,)\n"
          ],
          "name": "stdout"
        }
      ]
    },
    {
      "cell_type": "code",
      "metadata": {
        "id": "oh98VCerDHiN"
      },
      "source": [
        "K.clear_session()\n",
        "codings_size = 100\n",
        "generator = Sequential([\n",
        "    Dense(7 * 7 * 128, input_shape=[codings_size]),\n",
        "    Reshape([7, 7, 128]),\n",
        "    BatchNormalization(),\n",
        "    Conv2DTranspose(64, kernel_size=5, strides=2, padding=\"same\", activation=\"selu\"),\n",
        "    BatchNormalization(),\n",
        "    Conv2DTranspose(1, kernel_size=5, strides=2, padding=\"same\", activation=\"tanh\")\n",
        "])\n",
        "\n",
        "discriminator = Sequential([\n",
        "    Conv2D(64, kernel_size=5, strides=2, padding=\"same\", activation=LeakyReLU(0.2), input_shape=[28, 28, 1]),\n",
        "    Dropout(0.4),\n",
        "    Conv2D(128, kernel_size=5, strides=2, padding=\"same\", activation=LeakyReLU(0.2)),\n",
        "    Dropout(0.4),\n",
        "    Flatten(),\n",
        "    Dense(1, activation=\"sigmoid\")\n",
        "])\n",
        "\n",
        "gan = Sequential([generator, discriminator])\n",
        "\n",
        "discriminator.compile(optimizer=\"rmsprop\", loss=\"binary_crossentropy\")\n",
        "discriminator.trainable = False\n",
        "gan.compile(optimizer=\"rmsprop\", loss=\"binary_crossentropy\")"
      ],
      "execution_count": 2,
      "outputs": []
    },
    {
      "cell_type": "code",
      "metadata": {
        "id": "Jt1AI5NjFS0c"
      },
      "source": [
        "batch_size = 32\n",
        "dataset = tf.data.Dataset.from_tensor_slices(x_train).shuffle(1000)\n",
        "dataset = dataset.batch(batch_size, drop_remainder=True).prefetch(1)"
      ],
      "execution_count": 3,
      "outputs": []
    },
    {
      "cell_type": "code",
      "metadata": {
        "id": "wJ6WPF5fGWGr"
      },
      "source": [
        "def train_gan(gan, dataset, batch_size, codings_size, n_epochs=50):\n",
        "    gen, disc = gan.layers\n",
        "    for epoch in range(n_epochs):\n",
        "        for x_batch in dataset:\n",
        "            noise = tf.random.normal(shape=[batch_size, codings_size])\n",
        "            generated_batch = gen(noise)\n",
        "            full_batch = tf.concat([generated_batch, x_batch], axis=0)\n",
        "            y1 = tf.constant(tf.concat([tf.zeros([batch_size, 1]), tf.ones([batch_size, 1])], axis=0))\n",
        "            disc.trainable = True\n",
        "            disc.train_on_batch(full_batch, y1)\n",
        "\n",
        "            noise = tf.random.normal(shape=[batch_size, codings_size])\n",
        "            y2 = tf.ones([batch_size, 1])\n",
        "            disc.trainable = False\n",
        "\n",
        "            gan.train_on_batch(noise, y2)\n",
        "\n",
        "\n",
        "train_gan(gan, dataset, batch_size, codings_size)"
      ],
      "execution_count": 4,
      "outputs": []
    },
    {
      "cell_type": "code",
      "metadata": {
        "colab": {
          "base_uri": "https://localhost:8080/",
          "height": 549
        },
        "id": "JAIR3tlmIU-7",
        "outputId": "7738c403-9d32-46af-cf6b-09febb27993e"
      },
      "source": [
        "random_codings = tf.random.normal(shape=[12, codings_size])\n",
        "images = generator(random_codings).numpy().squeeze()\n",
        "\n",
        "fig = plt.figure(figsize=(12, 12))\n",
        "grid = ImageGrid(\n",
        "    fig, 111,  # similar to subplot(111)\n",
        "    nrows_ncols=(3, 4),  # creates 2x2 grid of axes\n",
        "    axes_pad=0.1,  # pad between axes in inch.\n",
        ")\n",
        "\n",
        "for ax, im in zip(grid, images):\n",
        "    # Iterating over the grid returns the Axes.\n",
        "    ax.imshow(im, cmap=\"gray\")\n",
        "\n",
        "plt.show()"
      ],
      "execution_count": 6,
      "outputs": [
        {
          "output_type": "display_data",
          "data": {
            "image/png": "[encoded data removed]",
            "text/plain": [
              "<Figure size 864x864 with 24 Axes>"
            ]
          },
          "metadata": {
            "tags": [],
            "needs_background": "light"
          }
        }
      ]
    },
    {
      "cell_type": "code",
      "metadata": {
        "id": "n0sPAJ1WSZW0"
      },
      "source": [
        ""
      ],
      "execution_count": null,
      "outputs": []
    }
  ]
}