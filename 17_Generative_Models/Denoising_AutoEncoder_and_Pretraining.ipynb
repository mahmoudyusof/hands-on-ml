{
  "nbformat": 4,
  "nbformat_minor": 0,
  "metadata": {
    "colab": {
      "name": "Denoising_AutoEncoder_and_Pretraining.ipynb",
      "provenance": []
    },
    "kernelspec": {
      "name": "python3",
      "display_name": "Python 3"
    },
    "accelerator": "GPU"
  },
  "cells": [
    {
      "cell_type": "code",
      "metadata": {
        "colab": {
          "base_uri": "https://localhost:8080/"
        },
        "id": "55UnkglmAJZN",
        "outputId": "4b38260c-1ab8-4cd3-9a3e-7a262b74a05d"
      },
      "source": [
        "# import packages and load dataset\n",
        "import tensorflow as tf\n",
        "from tensorflow.keras.models import Sequential, Model\n",
        "from tensorflow.keras.layers import Dense, Conv2D, Conv2DTranspose, UpSampling2D, MaxPool2D, Dropout, GaussianNoise, Flatten, Input, Reshape\n",
        "from tensorflow.keras.datasets import cifar10\n",
        "\n",
        "import numpy as np\n",
        "import matplotlib.pyplot as plt\n",
        "\n",
        "dataset = cifar10.load_data()"
      ],
      "execution_count": null,
      "outputs": [
        {
          "output_type": "stream",
          "text": [
            "Downloading data from https://www.cs.toronto.edu/~kriz/cifar-10-python.tar.gz\n",
            "170500096/170498071 [==============================] - 3s 0us/step\n"
          ],
          "name": "stdout"
        }
      ]
    },
    {
      "cell_type": "code",
      "metadata": {
        "id": "0RoHDh1wATzP"
      },
      "source": [
        "(x_train, y_train), (x_test, y_test) = dataset"
      ],
      "execution_count": null,
      "outputs": []
    },
    {
      "cell_type": "code",
      "metadata": {
        "colab": {
          "base_uri": "https://localhost:8080/"
        },
        "id": "OtLjvtlrIgJl",
        "outputId": "34d56be0-98fb-4cc1-823a-c4b3afdfe1cd"
      },
      "source": [
        "print(x_train.shape, x_test.shape)"
      ],
      "execution_count": null,
      "outputs": [
        {
          "output_type": "stream",
          "text": [
            "(50000, 32, 32, 3) (10000, 32, 32, 3)\n"
          ],
          "name": "stdout"
        }
      ]
    },
    {
      "cell_type": "code",
      "metadata": {
        "id": "NZXmsKNYAW2U"
      },
      "source": [
        "x_train = x_train.astype(\"float32\") / 255.\n",
        "x_test = x_test.astype(\"float32\") / 255."
      ],
      "execution_count": null,
      "outputs": []
    },
    {
      "cell_type": "code",
      "metadata": {
        "id": "Nr3-s-MoIcl1"
      },
      "source": [
        "x_train_small = x_train[:5000]\n",
        "y_train_small = y_train[:5000]\n",
        "x_train = x_train[5000:]\n",
        "y_train = y_train[5000:]"
      ],
      "execution_count": null,
      "outputs": []
    },
    {
      "cell_type": "code",
      "metadata": {
        "colab": {
          "base_uri": "https://localhost:8080/",
          "height": 336
        },
        "id": "GtODxLC3AiDu",
        "outputId": "7027537f-a612-4dee-9940-14dac573e7d5"
      },
      "source": [
        "def plot_img(img, label):\n",
        "    plt.title(label)\n",
        "    plt.imshow(img)\n",
        "    plt.show()\n",
        "\n",
        "plot_img(x_train[0], y_train[0])"
      ],
      "execution_count": null,
      "outputs": [
        {
          "output_type": "stream",
          "text": [
            "/usr/local/lib/python3.6/dist-packages/matplotlib/text.py:1165: FutureWarning: elementwise comparison failed; returning scalar instead, but in the future will perform elementwise comparison\n",
            "  if s != self._text:\n"
          ],
          "name": "stderr"
        },
        {
          "output_type": "display_data",
          "data": {
            "image/png": "[encoded data removed]",
            "text/plain": [
              "<Figure size 432x288 with 1 Axes>"
            ]
          },
          "metadata": {
            "tags": [],
            "needs_background": "light"
          }
        }
      ]
    },
    {
      "cell_type": "code",
      "metadata": {
        "colab": {
          "base_uri": "https://localhost:8080/"
        },
        "id": "hVOLSaw1I2cP",
        "outputId": "492825df-6fb2-41b8-9c8c-626ed4b66771"
      },
      "source": [
        "tf.keras.backend.clear_session()\n",
        "classifier = Sequential([\n",
        "    Conv2D(16, 3, activation=\"relu\", padding=\"same\", input_shape=[32, 32, 3]),\n",
        "    MaxPool2D(),\n",
        "    Conv2D(8, 3, activation=\"relu\", padding=\"same\"),\n",
        "    MaxPool2D(),\n",
        "    Conv2D(8, 3, activation=\"relu\", padding=\"same\"),\n",
        "    Flatten(),\n",
        "    Dense(64, activation=\"relu\"),\n",
        "    Dense(10, activation=\"sigmoid\")\n",
        "])\n",
        "\n",
        "classifier.compile(loss=\"categorical_crossentropy\", optimizer=\"adam\", metrics=[\"accuracy\"])\n",
        "classifier.summary()"
      ],
      "execution_count": null,
      "outputs": [
        {
          "output_type": "stream",
          "text": [
            "Model: \"sequential\"\n",
            "_________________________________________________________________\n",
            "Layer (type)                 Output Shape              Param #   \n",
            "=================================================================\n",
            "conv2d (Conv2D)              (None, 32, 32, 16)        448       \n",
            "_________________________________________________________________\n",
            "max_pooling2d (MaxPooling2D) (None, 16, 16, 16)        0         \n",
            "_________________________________________________________________\n",
            "conv2d_1 (Conv2D)            (None, 16, 16, 8)         1160      \n",
            "_________________________________________________________________\n",
            "max_pooling2d_1 (MaxPooling2 (None, 8, 8, 8)           0         \n",
            "_________________________________________________________________\n",
            "conv2d_2 (Conv2D)            (None, 8, 8, 8)           584       \n",
            "_________________________________________________________________\n",
            "flatten (Flatten)            (None, 512)               0         \n",
            "_________________________________________________________________\n",
            "dense (Dense)                (None, 64)                32832     \n",
            "_________________________________________________________________\n",
            "dense_1 (Dense)              (None, 10)                650       \n",
            "=================================================================\n",
            "Total params: 35,674\n",
            "Trainable params: 35,674\n",
            "Non-trainable params: 0\n",
            "_________________________________________________________________\n"
          ],
          "name": "stdout"
        }
      ]
    },
    {
      "cell_type": "code",
      "metadata": {
        "colab": {
          "base_uri": "https://localhost:8080/"
        },
        "id": "99mSj0t7JvL-",
        "outputId": "e6e98c8e-2d43-47d2-eeae-bb7ca14ddeb3"
      },
      "source": [
        "clf_history = classifier.fit(\n",
        "    x_train, tf.keras.utils.to_categorical(y_train),\n",
        "    epochs=30, batch_size=128,\n",
        "    validation_data=(x_test, tf.keras.utils.to_categorical(y_test))\n",
        ")"
      ],
      "execution_count": null,
      "outputs": [
        {
          "output_type": "stream",
          "text": [
            "Epoch 1/30\n",
            "352/352 [==============================] - 2s 5ms/step - loss: 1.9460 - accuracy: 0.2853 - val_loss: 1.4776 - val_accuracy: 0.4707\n",
            "Epoch 2/30\n",
            "352/352 [==============================] - 2s 4ms/step - loss: 1.4449 - accuracy: 0.4787 - val_loss: 1.3652 - val_accuracy: 0.5024\n",
            "Epoch 3/30\n",
            "352/352 [==============================] - 2s 4ms/step - loss: 1.3327 - accuracy: 0.5246 - val_loss: 1.2934 - val_accuracy: 0.5402\n",
            "Epoch 4/30\n",
            "352/352 [==============================] - 2s 5ms/step - loss: 1.2696 - accuracy: 0.5462 - val_loss: 1.2345 - val_accuracy: 0.5572\n",
            "Epoch 5/30\n",
            "352/352 [==============================] - 2s 5ms/step - loss: 1.2122 - accuracy: 0.5690 - val_loss: 1.2124 - val_accuracy: 0.5669\n",
            "Epoch 6/30\n",
            "352/352 [==============================] - 2s 5ms/step - loss: 1.1733 - accuracy: 0.5841 - val_loss: 1.1764 - val_accuracy: 0.5811\n",
            "Epoch 7/30\n",
            "352/352 [==============================] - 2s 5ms/step - loss: 1.1463 - accuracy: 0.5946 - val_loss: 1.1366 - val_accuracy: 0.5956\n",
            "Epoch 8/30\n",
            "352/352 [==============================] - 2s 5ms/step - loss: 1.1024 - accuracy: 0.6096 - val_loss: 1.1181 - val_accuracy: 0.6007\n",
            "Epoch 9/30\n",
            "352/352 [==============================] - 2s 5ms/step - loss: 1.0871 - accuracy: 0.6151 - val_loss: 1.1057 - val_accuracy: 0.6119\n",
            "Epoch 10/30\n",
            "352/352 [==============================] - 2s 4ms/step - loss: 1.0439 - accuracy: 0.6302 - val_loss: 1.1094 - val_accuracy: 0.6070\n",
            "Epoch 11/30\n",
            "352/352 [==============================] - 2s 4ms/step - loss: 1.0274 - accuracy: 0.6359 - val_loss: 1.0617 - val_accuracy: 0.6286\n",
            "Epoch 12/30\n",
            "352/352 [==============================] - 2s 4ms/step - loss: 1.0063 - accuracy: 0.6473 - val_loss: 1.0723 - val_accuracy: 0.6269\n",
            "Epoch 13/30\n",
            "352/352 [==============================] - 2s 4ms/step - loss: 0.9793 - accuracy: 0.6560 - val_loss: 1.0630 - val_accuracy: 0.6216\n",
            "Epoch 14/30\n",
            "352/352 [==============================] - 2s 4ms/step - loss: 0.9724 - accuracy: 0.6608 - val_loss: 1.0859 - val_accuracy: 0.6166\n",
            "Epoch 15/30\n",
            "352/352 [==============================] - 2s 5ms/step - loss: 0.9574 - accuracy: 0.6609 - val_loss: 1.0428 - val_accuracy: 0.6370\n",
            "Epoch 16/30\n",
            "352/352 [==============================] - 2s 5ms/step - loss: 0.9406 - accuracy: 0.6708 - val_loss: 1.0438 - val_accuracy: 0.6395\n",
            "Epoch 17/30\n",
            "352/352 [==============================] - 2s 5ms/step - loss: 0.9118 - accuracy: 0.6755 - val_loss: 1.0208 - val_accuracy: 0.6416\n",
            "Epoch 18/30\n",
            "352/352 [==============================] - 2s 4ms/step - loss: 0.9112 - accuracy: 0.6764 - val_loss: 1.0310 - val_accuracy: 0.6341\n",
            "Epoch 19/30\n",
            "352/352 [==============================] - 2s 4ms/step - loss: 0.8885 - accuracy: 0.6873 - val_loss: 1.0073 - val_accuracy: 0.6489\n",
            "Epoch 20/30\n",
            "352/352 [==============================] - 2s 5ms/step - loss: 0.8879 - accuracy: 0.6887 - val_loss: 1.0035 - val_accuracy: 0.6497\n",
            "Epoch 21/30\n",
            "352/352 [==============================] - 2s 5ms/step - loss: 0.8722 - accuracy: 0.6927 - val_loss: 1.0227 - val_accuracy: 0.6454\n",
            "Epoch 22/30\n",
            "352/352 [==============================] - 2s 4ms/step - loss: 0.8575 - accuracy: 0.6989 - val_loss: 1.0251 - val_accuracy: 0.6475\n",
            "Epoch 23/30\n",
            "352/352 [==============================] - 2s 4ms/step - loss: 0.8385 - accuracy: 0.7026 - val_loss: 1.0284 - val_accuracy: 0.6466\n",
            "Epoch 24/30\n",
            "352/352 [==============================] - 2s 4ms/step - loss: 0.8275 - accuracy: 0.7075 - val_loss: 0.9930 - val_accuracy: 0.6630\n",
            "Epoch 25/30\n",
            "352/352 [==============================] - 2s 4ms/step - loss: 0.8304 - accuracy: 0.7073 - val_loss: 1.0090 - val_accuracy: 0.6521\n",
            "Epoch 26/30\n",
            "352/352 [==============================] - 2s 4ms/step - loss: 0.8118 - accuracy: 0.7150 - val_loss: 0.9957 - val_accuracy: 0.6558\n",
            "Epoch 27/30\n",
            "352/352 [==============================] - 2s 4ms/step - loss: 0.8054 - accuracy: 0.7124 - val_loss: 0.9904 - val_accuracy: 0.6613\n",
            "Epoch 28/30\n",
            "352/352 [==============================] - 2s 5ms/step - loss: 0.7940 - accuracy: 0.7184 - val_loss: 1.0025 - val_accuracy: 0.6585\n",
            "Epoch 29/30\n",
            "352/352 [==============================] - 2s 5ms/step - loss: 0.7908 - accuracy: 0.7201 - val_loss: 1.0111 - val_accuracy: 0.6582\n",
            "Epoch 30/30\n",
            "352/352 [==============================] - 2s 5ms/step - loss: 0.7780 - accuracy: 0.7265 - val_loss: 1.0273 - val_accuracy: 0.6497\n"
          ],
          "name": "stdout"
        }
      ]
    },
    {
      "cell_type": "code",
      "metadata": {
        "colab": {
          "base_uri": "https://localhost:8080/",
          "height": 269
        },
        "id": "r8b1Nb6OKFEc",
        "outputId": "a6006a01-0d54-47cc-f451-e63677fc819a"
      },
      "source": [
        "import pandas as pd\n",
        "pd.DataFrame(clf_history.history).plot()\n",
        "plt.show()"
      ],
      "execution_count": null,
      "outputs": [
        {
          "output_type": "display_data",
          "data": {
            "image/png": "[encoded data removed]",
            "text/plain": [
              "<Figure size 432x288 with 1 Axes>"
            ]
          },
          "metadata": {
            "tags": [],
            "needs_background": "light"
          }
        }
      ]
    },
    {
      "cell_type": "code",
      "metadata": {
        "colab": {
          "base_uri": "https://localhost:8080/"
        },
        "id": "gg9Ry_K_Axn6",
        "outputId": "478e248e-a915-4eff-b7ed-c5bf656e3f9a"
      },
      "source": [
        "\n",
        "\n",
        "encoder = Sequential([\n",
        "    Conv2D(8, 3, padding=\"same\", activation=\"relu\", input_shape=[32, 32, 3]),\n",
        "    MaxPool2D(),\n",
        "    Conv2D(8, 3, padding=\"same\", activation=\"relu\"),\n",
        "    MaxPool2D(),\n",
        "    Conv2D(8, 3, padding=\"same\", activation=\"relu\"),\n",
        "    MaxPool2D(),\n",
        "    Flatten(), # output shape is [batch_size, 4*4*8]\n",
        "])\n",
        "\n",
        "decoder = Sequential([\n",
        "    Input(shape=[4*4*8]),\n",
        "    Reshape((4, 4, 8)),\n",
        "    UpSampling2D(),\n",
        "    Conv2DTranspose(8, 3, padding=\"same\", activation=\"relu\"),\n",
        "    UpSampling2D(),\n",
        "    Conv2DTranspose(8, 3, padding=\"same\", activation=\"relu\"),\n",
        "    UpSampling2D(),\n",
        "    Conv2DTranspose(3, 3, padding=\"same\", activation=\"sigmoid\"),\n",
        "])\n",
        "\n",
        "auto_encoder = Sequential([\n",
        "    encoder,\n",
        "    decoder\n",
        "])\n",
        "\n",
        "auto_encoder.compile(optimizer=\"adam\", loss=\"binary_crossentropy\", metrics=[\"accuracy\"])\n",
        "auto_encoder.build(input_shape=[None, 32, 32, 3])\n",
        "auto_encoder.summary()"
      ],
      "execution_count": null,
      "outputs": [
        {
          "output_type": "stream",
          "text": [
            "Model: \"sequential_3\"\n",
            "_________________________________________________________________\n",
            "Layer (type)                 Output Shape              Param #   \n",
            "=================================================================\n",
            "sequential_1 (Sequential)    (None, 128)               1392      \n",
            "_________________________________________________________________\n",
            "sequential_2 (Sequential)    (None, 32, 32, 3)         1387      \n",
            "=================================================================\n",
            "Total params: 2,779\n",
            "Trainable params: 2,779\n",
            "Non-trainable params: 0\n",
            "_________________________________________________________________\n"
          ],
          "name": "stdout"
        }
      ]
    },
    {
      "cell_type": "code",
      "metadata": {
        "colab": {
          "base_uri": "https://localhost:8080/",
          "height": 786
        },
        "id": "ThB0KAB1DJ7W",
        "outputId": "09917b09-c6ea-45e4-e915-e28eb7cf820a"
      },
      "source": [
        "history = auto_encoder.fit(x_train, x_train, epochs=15, batch_size=32, validation_data=(x_test, x_test))\n",
        "pd.DataFrame(history.history).plot()\n",
        "plt.show()"
      ],
      "execution_count": null,
      "outputs": [
        {
          "output_type": "stream",
          "text": [
            "Epoch 1/15\n",
            "1407/1407 [==============================] - 8s 5ms/step - loss: 0.6146 - accuracy: 0.4219 - val_loss: 0.5866 - val_accuracy: 0.6107\n",
            "Epoch 2/15\n",
            "1407/1407 [==============================] - 6s 5ms/step - loss: 0.5848 - accuracy: 0.6214 - val_loss: 0.5831 - val_accuracy: 0.6352\n",
            "Epoch 3/15\n",
            "1407/1407 [==============================] - 7s 5ms/step - loss: 0.5822 - accuracy: 0.6318 - val_loss: 0.5818 - val_accuracy: 0.6141\n",
            "Epoch 4/15\n",
            "1407/1407 [==============================] - 6s 4ms/step - loss: 0.5808 - accuracy: 0.6379 - val_loss: 0.5805 - val_accuracy: 0.6445\n",
            "Epoch 5/15\n",
            "1407/1407 [==============================] - 6s 4ms/step - loss: 0.5800 - accuracy: 0.6370 - val_loss: 0.5798 - val_accuracy: 0.6422\n",
            "Epoch 6/15\n",
            "1407/1407 [==============================] - 6s 5ms/step - loss: 0.5784 - accuracy: 0.6393 - val_loss: 0.5792 - val_accuracy: 0.6395\n",
            "Epoch 7/15\n",
            "1407/1407 [==============================] - 6s 5ms/step - loss: 0.5780 - accuracy: 0.6432 - val_loss: 0.5788 - val_accuracy: 0.6596\n",
            "Epoch 8/15\n",
            "1407/1407 [==============================] - 6s 4ms/step - loss: 0.5782 - accuracy: 0.6591 - val_loss: 0.5782 - val_accuracy: 0.6649\n",
            "Epoch 9/15\n",
            "1407/1407 [==============================] - 6s 4ms/step - loss: 0.5768 - accuracy: 0.6851 - val_loss: 0.5778 - val_accuracy: 0.7023\n",
            "Epoch 10/15\n",
            "1407/1407 [==============================] - 7s 5ms/step - loss: 0.5775 - accuracy: 0.6927 - val_loss: 0.5777 - val_accuracy: 0.6825\n",
            "Epoch 11/15\n",
            "1407/1407 [==============================] - 7s 5ms/step - loss: 0.5763 - accuracy: 0.6962 - val_loss: 0.5770 - val_accuracy: 0.7086\n",
            "Epoch 12/15\n",
            "1407/1407 [==============================] - 6s 4ms/step - loss: 0.5759 - accuracy: 0.6958 - val_loss: 0.5769 - val_accuracy: 0.7037\n",
            "Epoch 13/15\n",
            "1407/1407 [==============================] - 6s 4ms/step - loss: 0.5763 - accuracy: 0.7007 - val_loss: 0.5769 - val_accuracy: 0.7102\n",
            "Epoch 14/15\n",
            "1407/1407 [==============================] - 7s 5ms/step - loss: 0.5757 - accuracy: 0.7003 - val_loss: 0.5767 - val_accuracy: 0.7035\n",
            "Epoch 15/15\n",
            "1407/1407 [==============================] - 7s 5ms/step - loss: 0.5765 - accuracy: 0.7012 - val_loss: 0.5779 - val_accuracy: 0.7084\n"
          ],
          "name": "stdout"
        },
        {
          "output_type": "display_data",
          "data": {
            "image/png": "[encoded data removed]",
            "text/plain": [
              "<Figure size 432x288 with 1 Axes>"
            ]
          },
          "metadata": {
            "tags": [],
            "needs_background": "light"
          }
        }
      ]
    },
    {
      "cell_type": "code",
      "metadata": {
        "colab": {
          "base_uri": "https://localhost:8080/"
        },
        "id": "a2x3wxRSENZu",
        "outputId": "be3c6cab-54a8-434b-fd59-c6298ef1733e"
      },
      "source": [
        "pretrained_classifier = Sequential([\n",
        "    encoder,\n",
        "    Dense(64, activation=\"relu\"),\n",
        "    Dense(10, activation=\"sigmoid\")\n",
        "])\n",
        "\n",
        "encoder.trainable = False\n",
        "\n",
        "pretrained_classifier.compile(loss=\"categorical_crossentropy\", optimizer=\"adam\", metrics=[\"accuracy\"])\n",
        "pretrained_classifier.summary()"
      ],
      "execution_count": null,
      "outputs": [
        {
          "output_type": "stream",
          "text": [
            "Model: \"sequential_4\"\n",
            "_________________________________________________________________\n",
            "Layer (type)                 Output Shape              Param #   \n",
            "=================================================================\n",
            "sequential_1 (Sequential)    (None, 128)               1392      \n",
            "_________________________________________________________________\n",
            "dense_2 (Dense)              (None, 64)                8256      \n",
            "_________________________________________________________________\n",
            "dense_3 (Dense)              (None, 10)                650       \n",
            "=================================================================\n",
            "Total params: 10,298\n",
            "Trainable params: 8,906\n",
            "Non-trainable params: 1,392\n",
            "_________________________________________________________________\n"
          ],
          "name": "stdout"
        }
      ]
    },
    {
      "cell_type": "code",
      "metadata": {
        "colab": {
          "base_uri": "https://localhost:8080/",
          "height": 786
        },
        "id": "2psKrF3WEloG",
        "outputId": "c7fc3611-3176-494d-ec30-0d4a05908776"
      },
      "source": [
        "pre_history = pretrained_classifier.fit(\n",
        "    x_train_small,\n",
        "    tf.keras.utils.to_categorical(y_train_small),\n",
        "    epochs=15, batch_size=128,\n",
        "    validation_data=(x_test, tf.keras.utils.to_categorical(y_test))\n",
        ")\n",
        "pd.DataFrame(pre_history.history).plot()\n",
        "plt.show()"
      ],
      "execution_count": null,
      "outputs": [
        {
          "output_type": "stream",
          "text": [
            "Epoch 1/15\n",
            "40/40 [==============================] - 1s 14ms/step - loss: 2.3426 - accuracy: 0.1240 - val_loss: 2.2135 - val_accuracy: 0.2059\n",
            "Epoch 2/15\n",
            "40/40 [==============================] - 0s 9ms/step - loss: 2.1914 - accuracy: 0.2081 - val_loss: 2.1464 - val_accuracy: 0.2438\n",
            "Epoch 3/15\n",
            "40/40 [==============================] - 0s 9ms/step - loss: 2.1208 - accuracy: 0.2438 - val_loss: 2.0900 - val_accuracy: 0.2484\n",
            "Epoch 4/15\n",
            "40/40 [==============================] - 0s 9ms/step - loss: 2.0795 - accuracy: 0.2460 - val_loss: 2.0506 - val_accuracy: 0.2669\n",
            "Epoch 5/15\n",
            "40/40 [==============================] - 0s 9ms/step - loss: 2.0308 - accuracy: 0.3032 - val_loss: 2.0197 - val_accuracy: 0.2782\n",
            "Epoch 6/15\n",
            "40/40 [==============================] - 0s 10ms/step - loss: 1.9919 - accuracy: 0.2908 - val_loss: 1.9917 - val_accuracy: 0.2919\n",
            "Epoch 7/15\n",
            "40/40 [==============================] - 0s 10ms/step - loss: 1.9777 - accuracy: 0.2961 - val_loss: 1.9777 - val_accuracy: 0.2967\n",
            "Epoch 8/15\n",
            "40/40 [==============================] - 0s 9ms/step - loss: 1.9401 - accuracy: 0.3259 - val_loss: 1.9464 - val_accuracy: 0.3167\n",
            "Epoch 9/15\n",
            "40/40 [==============================] - 0s 9ms/step - loss: 1.9156 - accuracy: 0.3248 - val_loss: 1.9350 - val_accuracy: 0.3142\n",
            "Epoch 10/15\n",
            "40/40 [==============================] - 0s 9ms/step - loss: 1.9084 - accuracy: 0.3322 - val_loss: 1.9397 - val_accuracy: 0.3115\n",
            "Epoch 11/15\n",
            "40/40 [==============================] - 0s 9ms/step - loss: 1.8928 - accuracy: 0.3248 - val_loss: 1.9076 - val_accuracy: 0.3231\n",
            "Epoch 12/15\n",
            "40/40 [==============================] - 0s 10ms/step - loss: 1.8593 - accuracy: 0.3317 - val_loss: 1.8858 - val_accuracy: 0.3366\n",
            "Epoch 13/15\n",
            "40/40 [==============================] - 0s 10ms/step - loss: 1.8596 - accuracy: 0.3452 - val_loss: 1.8845 - val_accuracy: 0.3377\n",
            "Epoch 14/15\n",
            "40/40 [==============================] - 0s 9ms/step - loss: 1.8504 - accuracy: 0.3454 - val_loss: 1.8666 - val_accuracy: 0.3427\n",
            "Epoch 15/15\n",
            "40/40 [==============================] - 0s 9ms/step - loss: 1.8250 - accuracy: 0.3564 - val_loss: 1.8673 - val_accuracy: 0.3336\n"
          ],
          "name": "stdout"
        },
        {
          "output_type": "display_data",
          "data": {
            "image/png": "[encoded data removed]",
            "text/plain": [
              "<Figure size 432x288 with 1 Axes>"
            ]
          },
          "metadata": {
            "tags": [],
            "needs_background": "light"
          }
        }
      ]
    },
    {
      "cell_type": "code",
      "metadata": {
        "colab": {
          "base_uri": "https://localhost:8080/",
          "height": 1000
        },
        "id": "7yWvJxh1GyKk",
        "outputId": "097872c9-aa1d-4984-a083-346993de4b19"
      },
      "source": [
        "encoder.trainable = True\n",
        "\n",
        "pretrained_classifier.compile(loss=\"categorical_crossentropy\", optimizer=\"adam\", metrics=[\"accuracy\"])\n",
        "\n",
        "pre_history = pretrained_classifier.fit(\n",
        "    x_train_small,\n",
        "    tf.keras.utils.to_categorical(y_train_small),\n",
        "    epochs=30, batch_size=128,\n",
        "    validation_data=(x_test, tf.keras.utils.to_categorical(y_test))\n",
        ")\n",
        "pd.DataFrame(pre_history.history).plot()\n",
        "plt.show()"
      ],
      "execution_count": null,
      "outputs": [
        {
          "output_type": "stream",
          "text": [
            "Epoch 1/30\n",
            "40/40 [==============================] - 1s 19ms/step - loss: 1.8645 - accuracy: 0.3446 - val_loss: 1.8254 - val_accuracy: 0.3531\n",
            "Epoch 2/30\n",
            "40/40 [==============================] - 0s 11ms/step - loss: 1.7939 - accuracy: 0.3675 - val_loss: 1.8003 - val_accuracy: 0.3615\n",
            "Epoch 3/30\n",
            "40/40 [==============================] - 0s 11ms/step - loss: 1.7557 - accuracy: 0.3853 - val_loss: 1.7856 - val_accuracy: 0.3633\n",
            "Epoch 4/30\n",
            "40/40 [==============================] - 0s 11ms/step - loss: 1.7170 - accuracy: 0.3854 - val_loss: 1.7924 - val_accuracy: 0.3640\n",
            "Epoch 5/30\n",
            "40/40 [==============================] - 0s 11ms/step - loss: 1.6750 - accuracy: 0.4031 - val_loss: 1.7258 - val_accuracy: 0.3822\n",
            "Epoch 6/30\n",
            "40/40 [==============================] - 0s 11ms/step - loss: 1.6781 - accuracy: 0.4018 - val_loss: 1.6842 - val_accuracy: 0.4003\n",
            "Epoch 7/30\n",
            "40/40 [==============================] - 0s 10ms/step - loss: 1.6164 - accuracy: 0.4245 - val_loss: 1.8050 - val_accuracy: 0.3556\n",
            "Epoch 8/30\n",
            "40/40 [==============================] - 0s 11ms/step - loss: 1.6900 - accuracy: 0.4074 - val_loss: 1.6948 - val_accuracy: 0.3944\n",
            "Epoch 9/30\n",
            "40/40 [==============================] - 0s 11ms/step - loss: 1.6237 - accuracy: 0.4327 - val_loss: 1.6989 - val_accuracy: 0.3903\n",
            "Epoch 10/30\n",
            "40/40 [==============================] - 0s 10ms/step - loss: 1.6156 - accuracy: 0.4208 - val_loss: 1.6515 - val_accuracy: 0.4072\n",
            "Epoch 11/30\n",
            "40/40 [==============================] - 0s 11ms/step - loss: 1.5486 - accuracy: 0.4455 - val_loss: 1.6435 - val_accuracy: 0.4120\n",
            "Epoch 12/30\n",
            "40/40 [==============================] - 0s 11ms/step - loss: 1.5450 - accuracy: 0.4485 - val_loss: 1.6721 - val_accuracy: 0.3984\n",
            "Epoch 13/30\n",
            "40/40 [==============================] - 0s 10ms/step - loss: 1.5648 - accuracy: 0.4434 - val_loss: 1.6156 - val_accuracy: 0.4172\n",
            "Epoch 14/30\n",
            "40/40 [==============================] - 0s 11ms/step - loss: 1.5136 - accuracy: 0.4597 - val_loss: 1.6220 - val_accuracy: 0.4165\n",
            "Epoch 15/30\n",
            "40/40 [==============================] - 0s 10ms/step - loss: 1.5265 - accuracy: 0.4548 - val_loss: 1.5894 - val_accuracy: 0.4305\n",
            "Epoch 16/30\n",
            "40/40 [==============================] - 0s 10ms/step - loss: 1.5334 - accuracy: 0.4502 - val_loss: 1.5733 - val_accuracy: 0.4365\n",
            "Epoch 17/30\n",
            "40/40 [==============================] - 0s 10ms/step - loss: 1.4736 - accuracy: 0.4815 - val_loss: 1.5679 - val_accuracy: 0.4344\n",
            "Epoch 18/30\n",
            "40/40 [==============================] - 0s 10ms/step - loss: 1.4746 - accuracy: 0.4708 - val_loss: 1.6003 - val_accuracy: 0.4222\n",
            "Epoch 19/30\n",
            "40/40 [==============================] - 0s 10ms/step - loss: 1.4743 - accuracy: 0.4693 - val_loss: 1.6144 - val_accuracy: 0.4149\n",
            "Epoch 20/30\n",
            "40/40 [==============================] - 0s 10ms/step - loss: 1.4885 - accuracy: 0.4560 - val_loss: 1.5725 - val_accuracy: 0.4407\n",
            "Epoch 21/30\n",
            "40/40 [==============================] - 0s 10ms/step - loss: 1.4647 - accuracy: 0.4762 - val_loss: 1.5502 - val_accuracy: 0.4428\n",
            "Epoch 22/30\n",
            "40/40 [==============================] - 0s 10ms/step - loss: 1.4308 - accuracy: 0.4873 - val_loss: 1.5263 - val_accuracy: 0.4490\n",
            "Epoch 23/30\n",
            "40/40 [==============================] - 0s 11ms/step - loss: 1.4232 - accuracy: 0.4909 - val_loss: 1.5401 - val_accuracy: 0.4524\n",
            "Epoch 24/30\n",
            "40/40 [==============================] - 0s 11ms/step - loss: 1.3894 - accuracy: 0.5090 - val_loss: 1.5675 - val_accuracy: 0.4391\n",
            "Epoch 25/30\n",
            "40/40 [==============================] - 0s 10ms/step - loss: 1.3774 - accuracy: 0.5077 - val_loss: 1.5243 - val_accuracy: 0.4498\n",
            "Epoch 26/30\n",
            "40/40 [==============================] - 0s 10ms/step - loss: 1.3859 - accuracy: 0.5068 - val_loss: 1.5644 - val_accuracy: 0.4416\n",
            "Epoch 27/30\n",
            "40/40 [==============================] - 0s 10ms/step - loss: 1.3988 - accuracy: 0.4924 - val_loss: 1.5294 - val_accuracy: 0.4547\n",
            "Epoch 28/30\n",
            "40/40 [==============================] - 0s 11ms/step - loss: 1.3611 - accuracy: 0.5133 - val_loss: 1.5415 - val_accuracy: 0.4544\n",
            "Epoch 29/30\n",
            "40/40 [==============================] - 0s 11ms/step - loss: 1.3792 - accuracy: 0.5151 - val_loss: 1.5046 - val_accuracy: 0.4656\n",
            "Epoch 30/30\n",
            "40/40 [==============================] - 0s 11ms/step - loss: 1.3427 - accuracy: 0.5167 - val_loss: 1.5218 - val_accuracy: 0.4607\n"
          ],
          "name": "stdout"
        },
        {
          "output_type": "display_data",
          "data": {
            "image/png": "[encoded data removed]",
            "text/plain": [
              "<Figure size 432x288 with 1 Axes>"
            ]
          },
          "metadata": {
            "tags": [],
            "needs_background": "light"
          }
        }
      ]
    },
    {
      "cell_type": "code",
      "metadata": {
        "id": "FeZ7Gm3rMbAE"
      },
      "source": [
        ""
      ],
      "execution_count": null,
      "outputs": []
    }
  ]
}